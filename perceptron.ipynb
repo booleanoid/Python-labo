{
  "nbformat": 4,
  "nbformat_minor": 0,
  "metadata": {
    "colab": {
      "name": "perceptron.ipynb",
      "provenance": [],
      "collapsed_sections": [],
      "authorship_tag": "ABX9TyNbO7FZFTk9RjT0LEzxo+UA",
      "include_colab_link": true
    },
    "kernelspec": {
      "name": "python3",
      "display_name": "Python 3"
    }
  },
  "cells": [
    {
      "cell_type": "markdown",
      "metadata": {
        "id": "view-in-github",
        "colab_type": "text"
      },
      "source": [
        "<a href=\"https://colab.research.google.com/github/booleanoid/Python-labo/blob/master/perceptron.ipynb\" target=\"_parent\"><img src=\"https://colab.research.google.com/assets/colab-badge.svg\" alt=\"Open In Colab\"/></a>"
      ]
    },
    {
      "cell_type": "code",
      "metadata": {
        "colab": {
          "base_uri": "https://localhost:8080/"
        },
        "id": "YAc1YlOMCgwJ",
        "outputId": "f2494a1a-77a6-43db-f152-756dd10d4aa0"
      },
      "source": [
        "# AND\n",
        "def AND(x1, x2):\n",
        "  w1, w2, theta = 0.5, 0.5, 0.7\n",
        "  tmp = x1 * w1 + x2 * w2\n",
        "  if tmp <= theta:\n",
        "    return 0\n",
        "  elif tmp > theta:\n",
        "    return 1\n",
        "  \n",
        "ans1 = AND(0, 0)\n",
        "ans1"
      ],
      "execution_count": 2,
      "outputs": [
        {
          "output_type": "execute_result",
          "data": {
            "text/plain": [
              "0"
            ]
          },
          "metadata": {
            "tags": []
          },
          "execution_count": 2
        }
      ]
    },
    {
      "cell_type": "code",
      "metadata": {
        "colab": {
          "base_uri": "https://localhost:8080/"
        },
        "id": "PvfzOCVLDacg",
        "outputId": "bee31f7a-3486-46fc-f11f-c241426eea7b"
      },
      "source": [
        "import numpy as np\n",
        "\n",
        "x = np.array([0, 1])\n",
        "w = np.array([0.5, 0.5])\n",
        "b = -0.7\n",
        "\n",
        "print( w * x )\n",
        "print( np.sum(w * x) )\n",
        "\n"
      ],
      "execution_count": 7,
      "outputs": [
        {
          "output_type": "stream",
          "text": [
            "[0.  0.5]\n",
            "0.5\n"
          ],
          "name": "stdout"
        }
      ]
    },
    {
      "cell_type": "code",
      "metadata": {
        "id": "VYHNfndnFLgv"
      },
      "source": [
        "# NAD\n",
        "\n",
        "def NAND(x1, x2):\n",
        "  x = np.array(x1, x2)\n",
        "  w = np.array([0.5, 0.5])\n",
        "  b = 0.7\n",
        "  tmp = np.sum( w * x ) + b\n",
        "  if tpm <= 0 :\n",
        "    return 0\n",
        "  else:\n",
        "    return 1\n",
        "\n"
      ],
      "execution_count": null,
      "outputs": []
    }
  ]
}
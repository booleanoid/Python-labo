{
  "nbformat": 4,
  "nbformat_minor": 0,
  "metadata": {
    "colab": {
      "name": "first.ipynb",
      "provenance": [],
      "collapsed_sections": [],
      "authorship_tag": "ABX9TyO0xQxo6Y9hZ0cd+NfsR3je",
      "include_colab_link": true
    },
    "kernelspec": {
      "name": "python3",
      "display_name": "Python 3"
    }
  },
  "cells": [
    {
      "cell_type": "markdown",
      "metadata": {
        "id": "view-in-github",
        "colab_type": "text"
      },
      "source": [
        "<a href=\"https://colab.research.google.com/github/booleanoid/Python-labo/blob/master/first.ipynb\" target=\"_parent\"><img src=\"https://colab.research.google.com/assets/colab-badge.svg\" alt=\"Open In Colab\"/></a>"
      ]
    },
    {
      "cell_type": "code",
      "metadata": {
        "colab": {
          "base_uri": "https://localhost:8080/",
          "height": 376
        },
        "id": "N8pTBPGl7FdI",
        "outputId": "56b38a22-70c1-485f-cdd4-8a48a6f0134d"
      },
      "source": [
        "import numpy as np\n",
        "import pandas as pd\n",
        "\n",
        "i = 1\n",
        "j = 5\n",
        "print(i + j)\n",
        "\n",
        "x = np.random.randint(1, 100, size=(10, 10))\n",
        "df = pd.DataFrame(x)\n",
        "df\n",
        "\n",
        "\n",
        "\n",
        "\n"
      ],
      "execution_count": 11,
      "outputs": [
        {
          "output_type": "stream",
          "text": [
            "6\n"
          ],
          "name": "stdout"
        },
        {
          "output_type": "execute_result",
          "data": {
            "text/html": [
              "<div>\n",
              "<style scoped>\n",
              "    .dataframe tbody tr th:only-of-type {\n",
              "        vertical-align: middle;\n",
              "    }\n",
              "\n",
              "    .dataframe tbody tr th {\n",
              "        vertical-align: top;\n",
              "    }\n",
              "\n",
              "    .dataframe thead th {\n",
              "        text-align: right;\n",
              "    }\n",
              "</style>\n",
              "<table border=\"1\" class=\"dataframe\">\n",
              "  <thead>\n",
              "    <tr style=\"text-align: right;\">\n",
              "      <th></th>\n",
              "      <th>0</th>\n",
              "      <th>1</th>\n",
              "      <th>2</th>\n",
              "      <th>3</th>\n",
              "      <th>4</th>\n",
              "      <th>5</th>\n",
              "      <th>6</th>\n",
              "      <th>7</th>\n",
              "      <th>8</th>\n",
              "      <th>9</th>\n",
              "    </tr>\n",
              "  </thead>\n",
              "  <tbody>\n",
              "    <tr>\n",
              "      <th>0</th>\n",
              "      <td>67</td>\n",
              "      <td>96</td>\n",
              "      <td>6</td>\n",
              "      <td>21</td>\n",
              "      <td>14</td>\n",
              "      <td>67</td>\n",
              "      <td>66</td>\n",
              "      <td>97</td>\n",
              "      <td>84</td>\n",
              "      <td>98</td>\n",
              "    </tr>\n",
              "    <tr>\n",
              "      <th>1</th>\n",
              "      <td>57</td>\n",
              "      <td>36</td>\n",
              "      <td>11</td>\n",
              "      <td>48</td>\n",
              "      <td>95</td>\n",
              "      <td>59</td>\n",
              "      <td>26</td>\n",
              "      <td>40</td>\n",
              "      <td>50</td>\n",
              "      <td>40</td>\n",
              "    </tr>\n",
              "    <tr>\n",
              "      <th>2</th>\n",
              "      <td>14</td>\n",
              "      <td>26</td>\n",
              "      <td>28</td>\n",
              "      <td>87</td>\n",
              "      <td>63</td>\n",
              "      <td>63</td>\n",
              "      <td>40</td>\n",
              "      <td>30</td>\n",
              "      <td>9</td>\n",
              "      <td>85</td>\n",
              "    </tr>\n",
              "    <tr>\n",
              "      <th>3</th>\n",
              "      <td>17</td>\n",
              "      <td>17</td>\n",
              "      <td>78</td>\n",
              "      <td>23</td>\n",
              "      <td>84</td>\n",
              "      <td>29</td>\n",
              "      <td>48</td>\n",
              "      <td>67</td>\n",
              "      <td>41</td>\n",
              "      <td>12</td>\n",
              "    </tr>\n",
              "    <tr>\n",
              "      <th>4</th>\n",
              "      <td>6</td>\n",
              "      <td>21</td>\n",
              "      <td>89</td>\n",
              "      <td>78</td>\n",
              "      <td>78</td>\n",
              "      <td>76</td>\n",
              "      <td>27</td>\n",
              "      <td>49</td>\n",
              "      <td>7</td>\n",
              "      <td>5</td>\n",
              "    </tr>\n",
              "    <tr>\n",
              "      <th>5</th>\n",
              "      <td>50</td>\n",
              "      <td>70</td>\n",
              "      <td>20</td>\n",
              "      <td>86</td>\n",
              "      <td>9</td>\n",
              "      <td>99</td>\n",
              "      <td>36</td>\n",
              "      <td>99</td>\n",
              "      <td>53</td>\n",
              "      <td>32</td>\n",
              "    </tr>\n",
              "    <tr>\n",
              "      <th>6</th>\n",
              "      <td>88</td>\n",
              "      <td>27</td>\n",
              "      <td>85</td>\n",
              "      <td>27</td>\n",
              "      <td>57</td>\n",
              "      <td>92</td>\n",
              "      <td>86</td>\n",
              "      <td>42</td>\n",
              "      <td>10</td>\n",
              "      <td>64</td>\n",
              "    </tr>\n",
              "    <tr>\n",
              "      <th>7</th>\n",
              "      <td>22</td>\n",
              "      <td>79</td>\n",
              "      <td>10</td>\n",
              "      <td>38</td>\n",
              "      <td>17</td>\n",
              "      <td>82</td>\n",
              "      <td>31</td>\n",
              "      <td>97</td>\n",
              "      <td>73</td>\n",
              "      <td>98</td>\n",
              "    </tr>\n",
              "    <tr>\n",
              "      <th>8</th>\n",
              "      <td>36</td>\n",
              "      <td>37</td>\n",
              "      <td>5</td>\n",
              "      <td>91</td>\n",
              "      <td>43</td>\n",
              "      <td>63</td>\n",
              "      <td>46</td>\n",
              "      <td>90</td>\n",
              "      <td>70</td>\n",
              "      <td>28</td>\n",
              "    </tr>\n",
              "    <tr>\n",
              "      <th>9</th>\n",
              "      <td>71</td>\n",
              "      <td>40</td>\n",
              "      <td>95</td>\n",
              "      <td>73</td>\n",
              "      <td>34</td>\n",
              "      <td>67</td>\n",
              "      <td>95</td>\n",
              "      <td>60</td>\n",
              "      <td>15</td>\n",
              "      <td>33</td>\n",
              "    </tr>\n",
              "  </tbody>\n",
              "</table>\n",
              "</div>"
            ],
            "text/plain": [
              "    0   1   2   3   4   5   6   7   8   9\n",
              "0  67  96   6  21  14  67  66  97  84  98\n",
              "1  57  36  11  48  95  59  26  40  50  40\n",
              "2  14  26  28  87  63  63  40  30   9  85\n",
              "3  17  17  78  23  84  29  48  67  41  12\n",
              "4   6  21  89  78  78  76  27  49   7   5\n",
              "5  50  70  20  86   9  99  36  99  53  32\n",
              "6  88  27  85  27  57  92  86  42  10  64\n",
              "7  22  79  10  38  17  82  31  97  73  98\n",
              "8  36  37   5  91  43  63  46  90  70  28\n",
              "9  71  40  95  73  34  67  95  60  15  33"
            ]
          },
          "metadata": {
            "tags": []
          },
          "execution_count": 11
        }
      ]
    },
    {
      "cell_type": "code",
      "metadata": {
        "colab": {
          "base_uri": "https://localhost:8080/"
        },
        "id": "c_Uj16_ZKLmU",
        "outputId": "79ccb4d6-1571-48e0-cf49-6435c66257c2"
      },
      "source": [
        "array_sample = np.array([[50,46], [67, 37], [13, 65]])\n",
        "array_sample"
      ],
      "execution_count": 12,
      "outputs": [
        {
          "output_type": "execute_result",
          "data": {
            "text/plain": [
              "array([[50, 46],\n",
              "       [67, 37],\n",
              "       [13, 65]])"
            ]
          },
          "metadata": {
            "tags": []
          },
          "execution_count": 12
        }
      ]
    },
    {
      "cell_type": "code",
      "metadata": {
        "colab": {
          "base_uri": "https://localhost:8080/",
          "height": 295
        },
        "id": "7prpXo9QKRJk",
        "outputId": "5abb710b-c396-4f2d-a347-3ee2f4110be2"
      },
      "source": [
        "import matplotlib.pyplot as plt\n",
        "x = np.arange(0, 10, 0.1) # 0から6まで0.1刻みで生成\n",
        "y1 = np.sin(x)\n",
        "y2 = np.cos(x)\n",
        "\n",
        "\n",
        "plt.plot(x, y1, label = \"sin\")\n",
        "plt.plot(x, y2, linestyle = \"--\", label = \"cos\")\n",
        "plt.xlabel(\"x\")\n",
        "plt.ylabel(\"y\")\n",
        "plt.title('sin & cos')\n",
        "plt.legend()\n",
        "plt.show()\n",
        "\n",
        "\n"
      ],
      "execution_count": 17,
      "outputs": [
        {
          "output_type": "display_data",
          "data": {
            "image/png": "[encoded data removed]",
            "text/plain": [
              "<Figure size 432x288 with 1 Axes>"
            ]
          },
          "metadata": {
            "tags": [],
            "needs_background": "light"
          }
        }
      ]
    },
    {
      "cell_type": "code",
      "metadata": {
        "colab": {
          "base_uri": "https://localhost:8080/"
        },
        "id": "OrSkzTuWHd-R",
        "outputId": "038d2a73-505a-4d17-b05b-a84594301ffd"
      },
      "source": [
        "import keras\n"
      ],
      "execution_count": null,
      "outputs": [
        {
          "output_type": "execute_result",
          "data": {
            "text/plain": [
              "int"
            ]
          },
          "metadata": {
            "tags": []
          },
          "execution_count": 10
        }
      ]
    }
  ]
}
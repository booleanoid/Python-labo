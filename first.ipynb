{
  "nbformat": 4,
  "nbformat_minor": 0,
  "metadata": {
    "colab": {
      "name": "first.ipynb",
      "provenance": [],
      "collapsed_sections": [],
      "authorship_tag": "ABX9TyMNXHBdDq1By0ItRTmK5mPt",
      "include_colab_link": true
    },
    "kernelspec": {
      "name": "python3",
      "display_name": "Python 3"
    }
  },
  "cells": [
    {
      "cell_type": "markdown",
      "metadata": {
        "id": "view-in-github",
        "colab_type": "text"
      },
      "source": [
        "<a href=\"https://colab.research.google.com/github/booleanoid/Python-labo/blob/master/first.ipynb\" target=\"_parent\"><img src=\"https://colab.research.google.com/assets/colab-badge.svg\" alt=\"Open In Colab\"/></a>"
      ]
    },
    {
      "cell_type": "code",
      "metadata": {
        "colab": {
          "base_uri": "https://localhost:8080/",
          "height": 376
        },
        "id": "N8pTBPGl7FdI",
        "outputId": "6c4b8476-c83d-4186-b0a4-c434fa4250bb"
      },
      "source": [
        "import numpy as np\n",
        "import pandas as pd\n",
        "\n",
        "i = 1\n",
        "j = 5\n",
        "print(i + j)\n",
        "\n",
        "x = np.random.randint(1, 100, size=(10, 10))\n",
        "df = pd.DataFrame(x)\n",
        "df\n"
      ],
      "execution_count": 6,
      "outputs": [
        {
          "output_type": "stream",
          "text": [
            "6\n"
          ],
          "name": "stdout"
        },
        {
          "output_type": "execute_result",
          "data": {
            "text/html": [
              "<div>\n",
              "<style scoped>\n",
              "    .dataframe tbody tr th:only-of-type {\n",
              "        vertical-align: middle;\n",
              "    }\n",
              "\n",
              "    .dataframe tbody tr th {\n",
              "        vertical-align: top;\n",
              "    }\n",
              "\n",
              "    .dataframe thead th {\n",
              "        text-align: right;\n",
              "    }\n",
              "</style>\n",
              "<table border=\"1\" class=\"dataframe\">\n",
              "  <thead>\n",
              "    <tr style=\"text-align: right;\">\n",
              "      <th></th>\n",
              "      <th>0</th>\n",
              "      <th>1</th>\n",
              "      <th>2</th>\n",
              "      <th>3</th>\n",
              "      <th>4</th>\n",
              "      <th>5</th>\n",
              "      <th>6</th>\n",
              "      <th>7</th>\n",
              "      <th>8</th>\n",
              "      <th>9</th>\n",
              "    </tr>\n",
              "  </thead>\n",
              "  <tbody>\n",
              "    <tr>\n",
              "      <th>0</th>\n",
              "      <td>25</td>\n",
              "      <td>75</td>\n",
              "      <td>12</td>\n",
              "      <td>83</td>\n",
              "      <td>44</td>\n",
              "      <td>19</td>\n",
              "      <td>42</td>\n",
              "      <td>38</td>\n",
              "      <td>59</td>\n",
              "      <td>18</td>\n",
              "    </tr>\n",
              "    <tr>\n",
              "      <th>1</th>\n",
              "      <td>44</td>\n",
              "      <td>33</td>\n",
              "      <td>44</td>\n",
              "      <td>62</td>\n",
              "      <td>77</td>\n",
              "      <td>36</td>\n",
              "      <td>94</td>\n",
              "      <td>42</td>\n",
              "      <td>34</td>\n",
              "      <td>79</td>\n",
              "    </tr>\n",
              "    <tr>\n",
              "      <th>2</th>\n",
              "      <td>12</td>\n",
              "      <td>57</td>\n",
              "      <td>7</td>\n",
              "      <td>44</td>\n",
              "      <td>50</td>\n",
              "      <td>16</td>\n",
              "      <td>49</td>\n",
              "      <td>36</td>\n",
              "      <td>78</td>\n",
              "      <td>55</td>\n",
              "    </tr>\n",
              "    <tr>\n",
              "      <th>3</th>\n",
              "      <td>26</td>\n",
              "      <td>61</td>\n",
              "      <td>79</td>\n",
              "      <td>52</td>\n",
              "      <td>35</td>\n",
              "      <td>23</td>\n",
              "      <td>56</td>\n",
              "      <td>73</td>\n",
              "      <td>18</td>\n",
              "      <td>81</td>\n",
              "    </tr>\n",
              "    <tr>\n",
              "      <th>4</th>\n",
              "      <td>43</td>\n",
              "      <td>47</td>\n",
              "      <td>60</td>\n",
              "      <td>97</td>\n",
              "      <td>90</td>\n",
              "      <td>46</td>\n",
              "      <td>37</td>\n",
              "      <td>25</td>\n",
              "      <td>64</td>\n",
              "      <td>24</td>\n",
              "    </tr>\n",
              "    <tr>\n",
              "      <th>5</th>\n",
              "      <td>62</td>\n",
              "      <td>17</td>\n",
              "      <td>67</td>\n",
              "      <td>54</td>\n",
              "      <td>14</td>\n",
              "      <td>48</td>\n",
              "      <td>94</td>\n",
              "      <td>40</td>\n",
              "      <td>46</td>\n",
              "      <td>36</td>\n",
              "    </tr>\n",
              "    <tr>\n",
              "      <th>6</th>\n",
              "      <td>21</td>\n",
              "      <td>18</td>\n",
              "      <td>92</td>\n",
              "      <td>46</td>\n",
              "      <td>74</td>\n",
              "      <td>92</td>\n",
              "      <td>1</td>\n",
              "      <td>30</td>\n",
              "      <td>55</td>\n",
              "      <td>33</td>\n",
              "    </tr>\n",
              "    <tr>\n",
              "      <th>7</th>\n",
              "      <td>70</td>\n",
              "      <td>52</td>\n",
              "      <td>35</td>\n",
              "      <td>43</td>\n",
              "      <td>94</td>\n",
              "      <td>96</td>\n",
              "      <td>4</td>\n",
              "      <td>67</td>\n",
              "      <td>75</td>\n",
              "      <td>49</td>\n",
              "    </tr>\n",
              "    <tr>\n",
              "      <th>8</th>\n",
              "      <td>19</td>\n",
              "      <td>89</td>\n",
              "      <td>67</td>\n",
              "      <td>29</td>\n",
              "      <td>83</td>\n",
              "      <td>26</td>\n",
              "      <td>30</td>\n",
              "      <td>13</td>\n",
              "      <td>54</td>\n",
              "      <td>22</td>\n",
              "    </tr>\n",
              "    <tr>\n",
              "      <th>9</th>\n",
              "      <td>90</td>\n",
              "      <td>41</td>\n",
              "      <td>47</td>\n",
              "      <td>2</td>\n",
              "      <td>28</td>\n",
              "      <td>46</td>\n",
              "      <td>2</td>\n",
              "      <td>90</td>\n",
              "      <td>17</td>\n",
              "      <td>98</td>\n",
              "    </tr>\n",
              "  </tbody>\n",
              "</table>\n",
              "</div>"
            ],
            "text/plain": [
              "    0   1   2   3   4   5   6   7   8   9\n",
              "0  25  75  12  83  44  19  42  38  59  18\n",
              "1  44  33  44  62  77  36  94  42  34  79\n",
              "2  12  57   7  44  50  16  49  36  78  55\n",
              "3  26  61  79  52  35  23  56  73  18  81\n",
              "4  43  47  60  97  90  46  37  25  64  24\n",
              "5  62  17  67  54  14  48  94  40  46  36\n",
              "6  21  18  92  46  74  92   1  30  55  33\n",
              "7  70  52  35  43  94  96   4  67  75  49\n",
              "8  19  89  67  29  83  26  30  13  54  22\n",
              "9  90  41  47   2  28  46   2  90  17  98"
            ]
          },
          "metadata": {
            "tags": []
          },
          "execution_count": 6
        }
      ]
    },
    {
      "cell_type": "code",
      "metadata": {
        "colab": {
          "base_uri": "https://localhost:8080/"
        },
        "id": "OrSkzTuWHd-R",
        "outputId": "038d2a73-505a-4d17-b05b-a84594301ffd"
      },
      "source": [
        "import keras\n",
        "\n",
        "type(10)"
      ],
      "execution_count": 10,
      "outputs": [
        {
          "output_type": "execute_result",
          "data": {
            "text/plain": [
              "int"
            ]
          },
          "metadata": {
            "tags": []
          },
          "execution_count": 10
        }
      ]
    }
  ]
}